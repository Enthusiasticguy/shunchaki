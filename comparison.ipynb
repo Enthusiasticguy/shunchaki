{
  "nbformat": 4,
  "nbformat_minor": 0,
  "metadata": {
    "colab": {
      "provenance": [],
      "gpuType": "T4",
      "authorship_tag": "ABX9TyPOqrkS4g9r2tWAelYt3Gr/",
      "include_colab_link": true
    },
    "kernelspec": {
      "name": "python3",
      "display_name": "Python 3"
    },
    "language_info": {
      "name": "python"
    },
    "accelerator": "GPU"
  },
  "cells": [
    {
      "cell_type": "markdown",
      "metadata": {
        "id": "view-in-github",
        "colab_type": "text"
      },
      "source": [
        "<a href=\"https://colab.research.google.com/github/Enthusiasticguy/shunchaki/blob/main/comparison.ipynb\" target=\"_parent\"><img src=\"https://colab.research.google.com/assets/colab-badge.svg\" alt=\"Open In Colab\"/></a>"
      ]
    },
    {
      "cell_type": "markdown",
      "source": [
        "This is the first file of me. **I'm excited**"
      ],
      "metadata": {
        "id": "XstbB57zO7us"
      }
    },
    {
      "cell_type": "code",
      "source": [
        "import numpy as np\n"
      ],
      "metadata": {
        "id": "yL8-Vc2qLs_r"
      },
      "execution_count": 6,
      "outputs": []
    },
    {
      "cell_type": "code",
      "source": [
        "my_list = list(range(10000000))\n",
        "my_array = np.array(range(10000000))"
      ],
      "metadata": {
        "id": "00VeQVLUTsbV"
      },
      "execution_count": 11,
      "outputs": []
    },
    {
      "cell_type": "markdown",
      "source": [
        "We created a normal list using list in Python. [0,1,2,3,4.....10000000]\n",
        "Also we created array. it's also like this"
      ],
      "metadata": {
        "id": "sHpWlZ87Up7K"
      }
    },
    {
      "cell_type": "code",
      "source": [
        "%time for _ in range(10): [x*2 for x in my_list]\n"
      ],
      "metadata": {
        "id": "GKYoVvAsT2a4",
        "outputId": "a64fe229-c865-4b7a-f10a-804bb4c806e8",
        "colab": {
          "base_uri": "https://localhost:8080/"
        }
      },
      "execution_count": 12,
      "outputs": [
        {
          "output_type": "stream",
          "name": "stdout",
          "text": [
            "CPU times: user 7.79 s, sys: 2.56 s, total: 10.4 s\n",
            "Wall time: 10.6 s\n"
          ]
        }
      ]
    },
    {
      "cell_type": "code",
      "source": [
        "%time for _ in range(10): my_array*2"
      ],
      "metadata": {
        "id": "KnQ-vQz4UCmc",
        "outputId": "9b8c5db2-7a45-4996-a741-0114b14ebdc8",
        "colab": {
          "base_uri": "https://localhost:8080/"
        }
      },
      "execution_count": 13,
      "outputs": [
        {
          "output_type": "stream",
          "name": "stdout",
          "text": [
            "CPU times: user 106 ms, sys: 144 ms, total: 250 ms\n",
            "Wall time: 251 ms\n"
          ]
        }
      ]
    },
    {
      "cell_type": "code",
      "source": [
        "10.6*1000/251\n"
      ],
      "metadata": {
        "id": "7UFeIGb-UKKA",
        "outputId": "3c975f7e-d1d5-4a0d-aa11-0d088a645b9f",
        "colab": {
          "base_uri": "https://localhost:8080/"
        }
      },
      "execution_count": 14,
      "outputs": [
        {
          "output_type": "execute_result",
          "data": {
            "text/plain": [
              "42.23107569721115"
            ]
          },
          "metadata": {},
          "execution_count": 14
        }
      ]
    },
    {
      "cell_type": "markdown",
      "source": [
        "The difference is huge. array works 42 times faster in this case."
      ],
      "metadata": {
        "id": "8FETlUnXV-dO"
      }
    }
  ]
}